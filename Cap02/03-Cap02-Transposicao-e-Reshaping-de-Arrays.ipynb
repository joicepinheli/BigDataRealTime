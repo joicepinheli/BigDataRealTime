{
 "cells": [
  {
   "cell_type": "markdown",
   "id": "c5fbf772",
   "metadata": {},
   "source": [
    "# <font color='blue'>Data Science Academy</font>\n",
    "# <font color='blue'>Big Data Real-Time Analytics com Python e Spark</font>\n",
    "\n",
    "# <font color='blue'>Capítulo 2</font>"
   ]
  },
  {
   "cell_type": "markdown",
   "id": "51e54876",
   "metadata": {},
   "source": [
    "## Transposição e Reshaping de Arrays"
   ]
  },
  {
   "cell_type": "code",
   "execution_count": 3,
   "id": "9ec88a5f",
   "metadata": {},
   "outputs": [],
   "source": [
    "# Importando o múdolo Numpy\n",
    "import numpy as np"
   ]
  },
  {
   "cell_type": "code",
   "execution_count": 4,
   "id": "b6023fdb",
   "metadata": {},
   "outputs": [],
   "source": [
    "# Criando um array\n",
    "array1 = np.array([[65, 23, 19], [41, 87, 10]])"
   ]
  },
  {
   "cell_type": "code",
   "execution_count": 5,
   "id": "a81a6294",
   "metadata": {},
   "outputs": [
    {
     "data": {
      "text/plain": [
       "array([[65, 23, 19],\n",
       "       [41, 87, 10]])"
      ]
     },
     "execution_count": 5,
     "metadata": {},
     "output_type": "execute_result"
    }
   ],
   "source": [
    "array1"
   ]
  },
  {
   "cell_type": "code",
   "execution_count": 6,
   "id": "f0ed0cfa",
   "metadata": {},
   "outputs": [
    {
     "data": {
      "text/plain": [
       "array([[65, 41],\n",
       "       [23, 87],\n",
       "       [19, 10]])"
      ]
     },
     "execution_count": 6,
     "metadata": {},
     "output_type": "execute_result"
    }
   ],
   "source": [
    "# Realizando a inversão dos dados com Transpose.\n",
    "# Transformando linha em coluna e coluna em linha.\n",
    "array1.T"
   ]
  },
  {
   "cell_type": "code",
   "execution_count": 7,
   "id": "ac22c2ff",
   "metadata": {},
   "outputs": [
    {
     "data": {
      "text/plain": [
       "array([[65, 41],\n",
       "       [23, 87],\n",
       "       [19, 10]])"
      ]
     },
     "execution_count": 7,
     "metadata": {},
     "output_type": "execute_result"
    }
   ],
   "source": [
    "# Outra forma de realizar a inversão dos dados usando a função Transpose.\n",
    "np.transpose(array1)"
   ]
  },
  {
   "cell_type": "markdown",
   "id": "d7f3d770",
   "metadata": {},
   "source": [
    "## Broadcasting"
   ]
  },
  {
   "cell_type": "code",
   "execution_count": 8,
   "id": "7503bc0c",
   "metadata": {},
   "outputs": [],
   "source": [
    "# Criando um Array\n",
    "array2 = np.array([[33,34,35]])"
   ]
  },
  {
   "cell_type": "code",
   "execution_count": 10,
   "id": "cf713a80",
   "metadata": {},
   "outputs": [
    {
     "data": {
      "text/plain": [
       "array([[33],\n",
       "       [34],\n",
       "       [35]])"
      ]
     },
     "execution_count": 10,
     "metadata": {},
     "output_type": "execute_result"
    }
   ],
   "source": [
    "# Realizando a transposição do Array\n",
    "array2.T"
   ]
  },
  {
   "cell_type": "code",
   "execution_count": 11,
   "id": "3275658c",
   "metadata": {},
   "outputs": [
    {
     "data": {
      "text/plain": [
       "array([[66, 67, 68],\n",
       "       [67, 68, 69],\n",
       "       [68, 69, 70]])"
      ]
     },
     "execution_count": 11,
     "metadata": {},
     "output_type": "execute_result"
    }
   ],
   "source": [
    "# Realizando o Broadcasting do Array, que consiste em realizar a soma do Array com ele mesmo no formato transposto.\n",
    "array2.T + array2"
   ]
  },
  {
   "cell_type": "markdown",
   "id": "8a71b65b",
   "metadata": {},
   "source": [
    "## Transformando Matrizes em Vetores"
   ]
  },
  {
   "cell_type": "code",
   "execution_count": 12,
   "id": "c65587e6",
   "metadata": {},
   "outputs": [],
   "source": [
    "# Criando uma Matriz Bi-dimensional\n",
    "array3 = np.array([np.arange(1,6), np.arange(10,15)])"
   ]
  },
  {
   "cell_type": "code",
   "execution_count": 13,
   "id": "1732dfe3",
   "metadata": {},
   "outputs": [
    {
     "data": {
      "text/plain": [
       "array([[ 1,  2,  3,  4,  5],\n",
       "       [10, 11, 12, 13, 14]])"
      ]
     },
     "execution_count": 13,
     "metadata": {},
     "output_type": "execute_result"
    }
   ],
   "source": [
    "# Retornando os elementos da matriz\n",
    "array3"
   ]
  },
  {
   "cell_type": "code",
   "execution_count": 14,
   "id": "c2e3774f",
   "metadata": {},
   "outputs": [
    {
     "data": {
      "text/plain": [
       "array([ 1,  2,  3,  4,  5, 10, 11, 12, 13, 14])"
      ]
     },
     "execution_count": 14,
     "metadata": {},
     "output_type": "execute_result"
    }
   ],
   "source": [
    "# Transformando a Matriz Bi-dimensional, em um objeto unidimensional\n",
    "array3.ravel()"
   ]
  },
  {
   "cell_type": "code",
   "execution_count": 15,
   "id": "4fc0f7f7",
   "metadata": {},
   "outputs": [
    {
     "data": {
      "text/plain": [
       "array([ 1, 10,  2, 11,  3, 12,  4, 13,  5, 14])"
      ]
     },
     "execution_count": 15,
     "metadata": {},
     "output_type": "execute_result"
    }
   ],
   "source": [
    "array3.T.ravel()"
   ]
  },
  {
   "cell_type": "markdown",
   "id": "9bc4b932",
   "metadata": {},
   "source": [
    "## Operadores Lógicos"
   ]
  },
  {
   "cell_type": "code",
   "execution_count": 16,
   "id": "b564fff1",
   "metadata": {},
   "outputs": [],
   "source": [
    "# Definido para que seja possível reproduzir o mesmo resultado.\n",
    "np.random.seed(100) \n",
    "\n",
    "# Definindo uma matriz com valores randomicos 4x4.\n",
    "array4 = ap.random.randint(1, 10, size = (4,4)) "
   ]
  },
  {
   "cell_type": "code",
   "execution_count": 17,
   "id": "fd1925c8",
   "metadata": {},
   "outputs": [
    {
     "data": {
      "text/plain": [
       "array([[9, 9, 4, 8],\n",
       "       [8, 1, 5, 3],\n",
       "       [6, 3, 3, 3],\n",
       "       [2, 1, 9, 5]])"
      ]
     },
     "execution_count": 17,
     "metadata": {},
     "output_type": "execute_result"
    }
   ],
   "source": [
    "# Retornando os elementos da matriz\n",
    "array4"
   ]
  },
  {
   "cell_type": "code",
   "execution_count": null,
   "id": "8e2ea3ad",
   "metadata": {},
   "outputs": [],
   "source": [
    "# Chamando a função Any, Será exibido True ou False\n",
    "# Caso tenha qualquer elemento que, dividido por 7 que tenha o resto igual à zero.\n",
    "np.any ((array4 % 7) == 0)"
   ]
  },
  {
   "cell_type": "code",
   "execution_count": null,
   "id": "bd48c3db",
   "metadata": {},
   "outputs": [],
   "source": [
    "# Chamando a função All, será exibido se True ou False, caso todos os elementos do Array sejam menor do que o número 11.\n",
    "np.all (array4 < 11)"
   ]
  },
  {
   "cell_type": "markdown",
   "id": "34a8f875",
   "metadata": {},
   "source": [
    "## Reshaping"
   ]
  },
  {
   "cell_type": "code",
   "execution_count": 18,
   "id": "efede33d",
   "metadata": {},
   "outputs": [],
   "source": [
    "# Criando um Array\n",
    "array5 = np.arange (1,16)"
   ]
  },
  {
   "cell_type": "code",
   "execution_count": 19,
   "id": "622aec6b",
   "metadata": {},
   "outputs": [
    {
     "data": {
      "text/plain": [
       "array([ 1,  2,  3,  4,  5,  6,  7,  8,  9, 10, 11, 12, 13, 14, 15])"
      ]
     },
     "execution_count": 19,
     "metadata": {},
     "output_type": "execute_result"
    }
   ],
   "source": [
    "# Retornando os objetos deste array\n",
    "array5"
   ]
  },
  {
   "cell_type": "code",
   "execution_count": 21,
   "id": "d8cab9d2",
   "metadata": {},
   "outputs": [
    {
     "data": {
      "text/plain": [
       "array([[ 1,  2,  3,  4,  5],\n",
       "       [ 6,  7,  8,  9, 10],\n",
       "       [11, 12, 13, 14, 15]])"
      ]
     },
     "execution_count": 21,
     "metadata": {},
     "output_type": "execute_result"
    }
   ],
   "source": [
    "# Transformando um objeto unidimensional, em um objeto Multidimensional\n",
    "# Convertendo vetor em uma matriz\n",
    "array5.reshape(3,5)"
   ]
  },
  {
   "cell_type": "markdown",
   "id": "ecd00322",
   "metadata": {},
   "source": [
    "## Odernando o Array"
   ]
  },
  {
   "cell_type": "code",
   "execution_count": 22,
   "id": "50439606",
   "metadata": {},
   "outputs": [],
   "source": [
    "# Criando um vetor\n",
    "array7 = np.array([[3,2], [10, -1]])"
   ]
  },
  {
   "cell_type": "code",
   "execution_count": 23,
   "id": "7f8702aa",
   "metadata": {},
   "outputs": [
    {
     "data": {
      "text/plain": [
       "array([[ 3,  2],\n",
       "       [10, -1]])"
      ]
     },
     "execution_count": 23,
     "metadata": {},
     "output_type": "execute_result"
    }
   ],
   "source": [
    "# Retornando os objetos do matriz\n",
    "array7"
   ]
  },
  {
   "cell_type": "code",
   "execution_count": 24,
   "id": "0f06ecc8",
   "metadata": {},
   "outputs": [],
   "source": [
    "# Ordenando por linhas\n",
    "array7.sort(axis = 1)"
   ]
  },
  {
   "cell_type": "code",
   "execution_count": 25,
   "id": "dd1fc210",
   "metadata": {},
   "outputs": [
    {
     "data": {
      "text/plain": [
       "array([[ 2,  3],\n",
       "       [-1, 10]])"
      ]
     },
     "execution_count": 25,
     "metadata": {},
     "output_type": "execute_result"
    }
   ],
   "source": [
    "# Retornando os objetos do matriz\n",
    "array7"
   ]
  },
  {
   "cell_type": "code",
   "execution_count": 26,
   "id": "d9d14845",
   "metadata": {},
   "outputs": [],
   "source": [
    "array8 = np.array([[3,2], [10, -1]])"
   ]
  },
  {
   "cell_type": "code",
   "execution_count": 27,
   "id": "4091a76f",
   "metadata": {},
   "outputs": [],
   "source": [
    "# Ordenando por colunas\n",
    "array8.sort(axis = 0)"
   ]
  },
  {
   "cell_type": "code",
   "execution_count": 28,
   "id": "f60fc7c3",
   "metadata": {},
   "outputs": [
    {
     "data": {
      "text/plain": [
       "array([[ 3, -1],\n",
       "       [10,  2]])"
      ]
     },
     "execution_count": 28,
     "metadata": {},
     "output_type": "execute_result"
    }
   ],
   "source": [
    "# Retornando os objetos do matriz\n",
    "array8"
   ]
  },
  {
   "cell_type": "markdown",
   "id": "1fefbab0",
   "metadata": {},
   "source": [
    "## Fim"
   ]
  }
 ],
 "metadata": {
  "kernelspec": {
   "display_name": "Python 3",
   "language": "python",
   "name": "python3"
  },
  "language_info": {
   "codemirror_mode": {
    "name": "ipython",
    "version": 3
   },
   "file_extension": ".py",
   "mimetype": "text/x-python",
   "name": "python",
   "nbconvert_exporter": "python",
   "pygments_lexer": "ipython3",
   "version": "3.8.8"
  }
 },
 "nbformat": 4,
 "nbformat_minor": 5
}
